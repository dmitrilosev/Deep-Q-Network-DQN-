{
 "cells": [
  {
   "cell_type": "markdown",
   "metadata": {},
   "source": [
    "# Deep Q-Network (DQN)"
   ]
  },
  {
   "cell_type": "code",
   "execution_count": 1,
   "metadata": {},
   "outputs": [
    {
     "name": "stderr",
     "output_type": "stream",
     "text": [
      "/Applications/anaconda3/lib/python3.6/site-packages/h5py/__init__.py:36: FutureWarning: Conversion of the second argument of issubdtype from `float` to `np.floating` is deprecated. In future, it will be treated as `np.float64 == np.dtype(float).type`.\n",
      "  from ._conv import register_converters as _register_converters\n"
     ]
    }
   ],
   "source": [
    "import gym.spaces\n",
    "import gym\n",
    "import random\n",
    "import torch\n",
    "import numpy as np\n",
    "from collections import deque\n",
    "import matplotlib.pyplot as plt\n",
    "%matplotlib inline\n",
    "import tensorflow as tf\n",
    "from collections import deque, namedtuple"
   ]
  },
  {
   "cell_type": "code",
   "execution_count": 2,
   "metadata": {},
   "outputs": [],
   "source": [
    "class ReplayMemory:\n",
    "    \n",
    "    def __init__(self, size):\n",
    "        self.memory = deque(maxlen=size)\n",
    "        self.experience = namedtuple('Experience', ['state', 'action', 'reward', 'next_state', 'done'])\n",
    "    \n",
    "    def add(self, state, action, reward, next_state, done):\n",
    "        experience = self.experience(state, action, reward, next_state, done)\n",
    "        self.memory.append(experience)\n",
    "    \n",
    "    def sample(self, batch_size):\n",
    "        experiences = random.sample(self.memory, k=batch_size)\n",
    "        states, actions, rewards, next_states, dones = zip(*experiences)\n",
    "        return states, actions, rewards, next_states, dones\n",
    "    \n",
    "    def __len__(self):\n",
    "        return len(self.memory)"
   ]
  },
  {
   "cell_type": "code",
   "execution_count": 3,
   "metadata": {},
   "outputs": [],
   "source": [
    "class DenseModel(tf.keras.Model):\n",
    "    \n",
    "    def __init__(self, state_size, action_size):\n",
    "        super(DenseModel, self).__init__()\n",
    "        self.dense1 = tf.keras.layers.Dense(64, input_shape=(None, state_size), activation='relu')\n",
    "        self.dense2 = tf.keras.layers.Dense(64, activation='relu')\n",
    "        self.dense3 = tf.keras.layers.Dense(action_size)\n",
    "        \n",
    "    def call(self, inputs):\n",
    "        x = self.dense1(inputs)\n",
    "        x = self.dense2(x)\n",
    "        return self.dense3(x)"
   ]
  },
  {
   "cell_type": "code",
   "execution_count": 4,
   "metadata": {},
   "outputs": [],
   "source": [
    "MEMORY_SIZE = int(1e5)  # replay buffer size\n",
    "BATCH_SIZE = 128         # minibatch size\n",
    "GAMMA = 0.99            # discount factor\n",
    "TAU = 1e-3              # for soft update of target parameters\n",
    "LR = 5e-4               # learning rate \n",
    "LEARN_EVERY = 1        # how often to update the network\n",
    "LEARN_FROM = BATCH_SIZE\n",
    "\n",
    "\n",
    "class Agent:\n",
    "    \n",
    "    def __init__(self, state_size, action_size):\n",
    "        self.state_size = state_size\n",
    "        self.action_size = action_size\n",
    "        self.time_step = 0\n",
    "        \n",
    "        self.states = tf.placeholder(tf.float32, shape=(None, state_size))\n",
    "        self.actions = tf.placeholder(tf.int32, shape=(None))\n",
    "        self.rewards = tf.placeholder(tf.float32, shape=(None))\n",
    "        self.next_states = tf.placeholder(tf.float32, shape=(None, state_size))\n",
    "        self.dones = tf.placeholder(tf.float32, shape=(None))\n",
    "        \n",
    "        # create graph\n",
    "        self.local_q_model = DenseModel(state_size, action_size)\n",
    "        self.target_q_model = DenseModel(state_size, action_size)\n",
    "        \n",
    "        max_next_action_values = tf.reduce_max(self.target_q_model(self.next_states), axis=1)\n",
    "        target_action_values = self.rewards + GAMMA*max_next_action_values*(1. - self.dones)\n",
    "        self.local_action_values = self.local_q_model(self.states)\n",
    "        self.indices = tf.concat([tf.expand_dims(tf.range(tf.shape(self.actions)[0]), -1), tf.expand_dims(self.actions, -1)], 1)\n",
    "        selected_local_action_values = tf.gather_nd(self.local_action_values, self.indices)\n",
    "        self.loss = tf.losses.mean_squared_error(target_action_values, selected_local_action_values)\n",
    "        self.optimize = tf.train.AdamOptimizer(LR).minimize(self.loss)\n",
    "        \n",
    "        # Inialize replay memory\n",
    "        self.replay_memory = ReplayMemory(MEMORY_SIZE)\n",
    "        \n",
    "        # Initialize graph variables\n",
    "        self.sess = tf.InteractiveSession()\n",
    "        self.sess.run(tf.global_variables_initializer())\n",
    "        self.soft_update(1.)\n",
    "        self.target_q_model.trainable = False\n",
    "\n",
    "    def act(self, state, eps=0.):\n",
    "        if random.random() < eps:\n",
    "            return random.choice(np.arange(self.action_size))\n",
    "        else:\n",
    "            values = {\n",
    "                self.states: np.array([state])\n",
    "            }\n",
    "            local_action_values = self.sess.run([self.local_action_values], feed_dict=values)\n",
    "            return np.argmax(local_action_values)\n",
    "    \n",
    "    def learn(self, experiences):\n",
    "        states, actions, rewards, next_states, dones = experiences\n",
    "        values = {\n",
    "            self.states: states,\n",
    "            self.actions: actions,\n",
    "            self.rewards: rewards,\n",
    "            self.next_states: next_states,\n",
    "            self.dones: dones\n",
    "        }\n",
    "        loss, _ = self.sess.run([self.loss, self.optimize], feed_dict=values)\n",
    "        return loss\n",
    "\n",
    "    def soft_update(self, tau):\n",
    "        local_weights = np.array(self.local_q_model.get_weights())\n",
    "        target_weights = np.array(self.target_q_model.get_weights())\n",
    "        weights = list(tau*local_weights + (1. - tau)*target_weights)\n",
    "        self.target_q_model.set_weights(weights)\n",
    "\n",
    "    def step(self, state, action, reward, next_state, done):\n",
    "        self.replay_memory.add(state, action, reward, next_state, done)\n",
    "        self.time_step = self.time_step + 1\n",
    "        if self.time_step >= LEARN_FROM and self.time_step % LEARN_EVERY == 0:\n",
    "            experiences = self.replay_memory.sample(BATCH_SIZE)\n",
    "            loss = self.learn(experiences)\n",
    "            self.soft_update(TAU)\n",
    "            return loss\n",
    "        else:\n",
    "            return 0\n",
    "                \n",
    "    def save(self):\n",
    "        self.local_q_model.save_weights('local_q_model_weights.h5')\n",
    "        self.target_q_model.save_weights('target_q_model_weights.h5')\n",
    "        \n",
    "    def load(self):\n",
    "        self.local_q_model.load_weights('local_q_model_weights.h5')\n",
    "        self.target_q_model.load_weights('target_q_model_weights.h5')\n",
    "        "
   ]
  },
  {
   "cell_type": "code",
   "execution_count": 5,
   "metadata": {},
   "outputs": [],
   "source": [
    "def dqn(env, n_episodes=2000, max_t=1000, eps_start=1.0, eps_end=0.02, eps_decay=0.995):\n",
    "    \"\"\"Deep Q-Learning.\n",
    "    \n",
    "    Params\n",
    "    ======\n",
    "        n_episodes (int): maximum number of training episodes\n",
    "        max_t (int): maximum number of timesteps per episode\n",
    "        eps_start (float): starting value of epsilon, for epsilon-greedy action selection\n",
    "        eps_end (float): minimum value of epsilon\n",
    "        eps_decay (float): multiplicative factor (per episode) for decreasing epsilon\n",
    "    \"\"\"\n",
    "    agent = Agent(env.observation_space.shape[0], env.action_space.n)\n",
    "    \n",
    "    scores = []                        # list containing scores from each episode\n",
    "    scores_window = deque(maxlen=100)  # last 100 scores\n",
    "    losses_window = deque(maxlen=100)\n",
    "    actions_window = deque(maxlen=100)\n",
    "    iteration = 0\n",
    "    eps = eps_start                    # initialize epsilon\n",
    "    for i_episode in range(1, n_episodes+1):\n",
    "        state = env.reset()\n",
    "        score = 0\n",
    "        episode_loss = 0\n",
    "        actions = []\n",
    "        for t in range(max_t):\n",
    "            action = agent.act(state, eps)\n",
    "            actions.append(action)\n",
    "            next_state, reward, done, _ = env.step(action)\n",
    "            loss = agent.step(state, action, reward, next_state, done)\n",
    "            if reward == 200:\n",
    "                print('reward 200')\n",
    "            state = next_state\n",
    "            score += reward\n",
    "            episode_loss += loss\n",
    "            iteration += 1\n",
    "            if done:\n",
    "                break\n",
    "        scores_window.append(score)       # save most recent score\n",
    "        losses_window.append(episode_loss)\n",
    "        scores.append(score)              # save most recent score\n",
    "        eps = max(eps_end, eps_decay*eps)\n",
    "        print('\\rEpisode {}\\tAverage Score: {:.2f}\\tEpsilon {:.4f}\\tIteration {}\\tMemory {}\\tActions {}'.format(i_episode, np.mean(scores_window), eps, iteration, len(agent.replay_memory), len(actions)), end=\"\")\n",
    "        if i_episode % 100 == 0:\n",
    "            print('\\rEpisode {}\\tAverage Score: {:.2f}\\tEpsilon {:.4f}\\tIteration {}\\tMemory {}\\tActions {}'.format(i_episode, np.mean(scores_window), eps, iteration, len(agent.replay_memory), len(actions)))\n",
    "        if np.mean(scores_window)>=200.0:\n",
    "            print('\\nEnvironment solved in {:d} episodes!\\tAverage Score: {:.2f}'.format(i_episode-100, np.mean(scores_window)))\n",
    "            agent.save()\n",
    "            break\n",
    "    \n",
    "    # plot the scores\n",
    "    fig = plt.figure()\n",
    "    ax = fig.add_subplot(111)\n",
    "    plt.plot(np.arange(len(scores)), scores)\n",
    "    plt.ylabel('Score')\n",
    "    plt.xlabel('Episode #')\n",
    "    plt.show()\n",
    "    \n",
    "    return agent"
   ]
  },
  {
   "cell_type": "code",
   "execution_count": 6,
   "metadata": {},
   "outputs": [
    {
     "name": "stdout",
     "output_type": "stream",
     "text": [
      "\u001b[33mWARN: gym.spaces.Box autodetected dtype as <class 'numpy.float32'>. Please provide explicit dtype.\u001b[0m\n",
      "State shape:  (4,)\n",
      "Number of actions:  2\n",
      "Episode 100\tAverage Score: 25.35\tEpsilon 0.6058\tIteration 2535\tMemory 2535\tActions 187\n",
      "Episode 200\tAverage Score: 80.79\tEpsilon 0.3670\tIteration 10614\tMemory 10614\tActions 115\n",
      "Episode 300\tAverage Score: 152.90\tEpsilon 0.2223\tIteration 25904\tMemory 25904\tActions 225\n",
      "Episode 354\tAverage Score: 200.51\tEpsilon 0.1696\tIteration 37554\tMemory 37554\tActions 338\n",
      "Environment solved in 254 episodes!\tAverage Score: 200.51\n"
     ]
    },
    {
     "data": {
      "image/png": "[encoded data removed]",
      "text/plain": [
       "<Figure size 432x288 with 1 Axes>"
      ]
     },
     "metadata": {},
     "output_type": "display_data"
    }
   ],
   "source": [
    "env = gym.make('CartPole-v1')\n",
    "print('State shape: ', env.observation_space.shape)\n",
    "print('Number of actions: ', env.action_space.n)\n",
    "agent = dqn(env)"
   ]
  },
  {
   "cell_type": "code",
   "execution_count": 7,
   "metadata": {},
   "outputs": [
    {
     "name": "stdout",
     "output_type": "stream",
     "text": [
      "State shape:  (8,)\n",
      "Number of actions:  4\n"
     ]
    },
    {
     "name": "stderr",
     "output_type": "stream",
     "text": [
      "/Applications/anaconda3/lib/python3.6/site-packages/tensorflow/python/client/session.py:1714: UserWarning: An interactive session is already active. This can cause out-of-memory errors in some cases. You must explicitly call `InteractiveSession.close()` to release resources held by the other session(s).\n",
      "  warnings.warn('An interactive session is already active. This can '\n"
     ]
    },
    {
     "name": "stdout",
     "output_type": "stream",
     "text": [
      "Episode 100\tAverage Score: -482.82\tEpsilon 0.6058\tIteration 6760\tMemory 6760\tActions 69\n",
      "Episode 200\tAverage Score: -397.95\tEpsilon 0.3670\tIteration 13578\tMemory 13578\tActions 78\n",
      "Episode 300\tAverage Score: -315.87\tEpsilon 0.2223\tIteration 20650\tMemory 20650\tActions 843\n",
      "Episode 400\tAverage Score: -251.63\tEpsilon 0.1347\tIteration 27733\tMemory 27733\tActions 642\n",
      "Episode 500\tAverage Score: -216.17\tEpsilon 0.0816\tIteration 34557\tMemory 34557\tActions 741\n",
      "Episode 600\tAverage Score: -205.15\tEpsilon 0.0494\tIteration 41625\tMemory 41625\tActions 746\n",
      "Episode 700\tAverage Score: -186.43\tEpsilon 0.0299\tIteration 48550\tMemory 48550\tActions 66\n",
      "Episode 800\tAverage Score: -183.19\tEpsilon 0.0200\tIteration 55621\tMemory 55621\tActions 920\n",
      "Episode 900\tAverage Score: -170.82\tEpsilon 0.0200\tIteration 62452\tMemory 62452\tActions 91\n",
      "Episode 1000\tAverage Score: -170.06\tEpsilon 0.0200\tIteration 69329\tMemory 69329\tActions 86\n",
      "Episode 1100\tAverage Score: -171.93\tEpsilon 0.0200\tIteration 76316\tMemory 76316\tActions 74\n",
      "Episode 1200\tAverage Score: -180.72\tEpsilon 0.0200\tIteration 83358\tMemory 83358\tActions 855\n",
      "Episode 1300\tAverage Score: -167.96\tEpsilon 0.0200\tIteration 90221\tMemory 90221\tActions 524\n",
      "Episode 1400\tAverage Score: -171.91\tEpsilon 0.0200\tIteration 97200\tMemory 97200\tActions 76\n",
      "Episode 1500\tAverage Score: -170.81\tEpsilon 0.0200\tIteration 104088\tMemory 100000\tActions 594\n",
      "Episode 1600\tAverage Score: -174.26\tEpsilon 0.0200\tIteration 110872\tMemory 100000\tActions 66\n",
      "Episode 1700\tAverage Score: -174.59\tEpsilon 0.0200\tIteration 117861\tMemory 100000\tActions 80\n",
      "Episode 1800\tAverage Score: -172.39\tEpsilon 0.0200\tIteration 124699\tMemory 100000\tActions 790\n",
      "Episode 1900\tAverage Score: -170.06\tEpsilon 0.0200\tIteration 131412\tMemory 100000\tActions 51\n",
      "Episode 2000\tAverage Score: -182.32\tEpsilon 0.0200\tIteration 138317\tMemory 100000\tActions 82\n"
     ]
    },
    {
     "data": {
      "image/png": "[encoded data removed]",
      "text/plain": [
       "<Figure size 432x288 with 1 Axes>"
      ]
     },
     "metadata": {},
     "output_type": "display_data"
    }
   ],
   "source": [
    "env = gym.make('LunarLander-v2')\n",
    "print('State shape: ', env.observation_space.shape)\n",
    "print('Number of actions: ', env.action_space.n)\n",
    "agent = dqn(env)"
   ]
  },
  {
   "cell_type": "markdown",
   "metadata": {},
   "source": [
    "### 4. Watch a Smart Agent!"
   ]
  },
  {
   "cell_type": "code",
   "execution_count": 8,
   "metadata": {},
   "outputs": [],
   "source": [
    "for i in range(5):\n",
    "    state = env.reset()\n",
    "    done = False\n",
    "    while not done:\n",
    "        action = agent.act(state)\n",
    "        env.render()\n",
    "        state, reward, done, _ = env.step(action) \n",
    "env.close()"
   ]
  },
  {
   "cell_type": "code",
   "execution_count": null,
   "metadata": {},
   "outputs": [],
   "source": []
  }
 ],
 "metadata": {
  "kernelspec": {
   "display_name": "Python 3",
   "language": "python",
   "name": "python3"
  },
  "language_info": {
   "codemirror_mode": {
    "name": "ipython",
    "version": 3
   },
   "file_extension": ".py",
   "mimetype": "text/x-python",
   "name": "python",
   "nbconvert_exporter": "python",
   "pygments_lexer": "ipython3",
   "version": "3.6.5"
  }
 },
 "nbformat": 4,
 "nbformat_minor": 2
}
